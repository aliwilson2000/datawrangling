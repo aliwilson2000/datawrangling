{
 "cells": [
  {
   "cell_type": "markdown",
   "id": "bb3d417d",
   "metadata": {},
   "source": [
    "# Basic Car Data Wrangling   "
   ]
  },
  {
   "cell_type": "markdown",
   "id": "2cfb66b6",
   "metadata": {},
   "source": [
    "Start by importing certain libraries:"
   ]
  },
  {
   "cell_type": "code",
   "execution_count": 126,
   "id": "872a9220",
   "metadata": {},
   "outputs": [
    {
     "name": "stdout",
     "output_type": "stream",
     "text": [
      "%pylab is deprecated, use %matplotlib inline and import the required libraries.\n",
      "Populating the interactive namespace from numpy and matplotlib\n"
     ]
    }
   ],
   "source": [
    "from pandas import Series, DataFrame\n",
    "import pandas as pd\n",
    "%pylab inline\n",
    "\n",
    "#Also ignoring the warnings for neatness purposes:\n",
    "import warnings\n",
    "warnings.filterwarnings('ignore')"
   ]
  },
  {
   "cell_type": "code",
   "execution_count": 127,
   "id": "1708db19",
   "metadata": {},
   "outputs": [],
   "source": [
    "import matplotlib.pyplot as plt\n",
    "import numpy as np\n",
    "import seaborn as sns"
   ]
  },
  {
   "cell_type": "markdown",
   "id": "cb0020e1",
   "metadata": {},
   "source": [
    "**Importing the dataset from downloads:** <br>"
   ]
  },
  {
   "cell_type": "code",
   "execution_count": 128,
   "id": "498ba8dd",
   "metadata": {},
   "outputs": [],
   "source": [
    "cars = pd.read_csv('Sport car price.csv')"
   ]
  },
  {
   "cell_type": "markdown",
   "id": "58fa0680",
   "metadata": {},
   "source": [
    "View the first 2 rows just to see what we are dealing with:"
   ]
  },
  {
   "cell_type": "code",
   "execution_count": 129,
   "id": "00bcbc0a",
   "metadata": {},
   "outputs": [
    {
     "data": {
      "text/html": [
       "<div>\n",
       "<style scoped>\n",
       "    .dataframe tbody tr th:only-of-type {\n",
       "        vertical-align: middle;\n",
       "    }\n",
       "\n",
       "    .dataframe tbody tr th {\n",
       "        vertical-align: top;\n",
       "    }\n",
       "\n",
       "    .dataframe thead th {\n",
       "        text-align: right;\n",
       "    }\n",
       "</style>\n",
       "<table border=\"1\" class=\"dataframe\">\n",
       "  <thead>\n",
       "    <tr style=\"text-align: right;\">\n",
       "      <th></th>\n",
       "      <th>Car Make</th>\n",
       "      <th>Car Model</th>\n",
       "      <th>Year</th>\n",
       "      <th>Engine Size (L)</th>\n",
       "      <th>Horsepower</th>\n",
       "      <th>Torque (lb-ft)</th>\n",
       "      <th>0-60 MPH Time (seconds)</th>\n",
       "      <th>Price (in USD)</th>\n",
       "    </tr>\n",
       "  </thead>\n",
       "  <tbody>\n",
       "    <tr>\n",
       "      <th>0</th>\n",
       "      <td>Porsche</td>\n",
       "      <td>911</td>\n",
       "      <td>2022</td>\n",
       "      <td>3</td>\n",
       "      <td>379</td>\n",
       "      <td>331</td>\n",
       "      <td>4</td>\n",
       "      <td>101,200</td>\n",
       "    </tr>\n",
       "    <tr>\n",
       "      <th>1</th>\n",
       "      <td>Lamborghini</td>\n",
       "      <td>Huracan</td>\n",
       "      <td>2021</td>\n",
       "      <td>5.2</td>\n",
       "      <td>630</td>\n",
       "      <td>443</td>\n",
       "      <td>2.8</td>\n",
       "      <td>274,390</td>\n",
       "    </tr>\n",
       "  </tbody>\n",
       "</table>\n",
       "</div>"
      ],
      "text/plain": [
       "      Car Make Car Model  Year Engine Size (L) Horsepower Torque (lb-ft)  \\\n",
       "0      Porsche       911  2022               3        379            331   \n",
       "1  Lamborghini   Huracan  2021             5.2        630            443   \n",
       "\n",
       "  0-60 MPH Time (seconds) Price (in USD)  \n",
       "0                       4        101,200  \n",
       "1                     2.8        274,390  "
      ]
     },
     "execution_count": 129,
     "metadata": {},
     "output_type": "execute_result"
    }
   ],
   "source": [
    "cars.iloc[:2]"
   ]
  },
  {
   "cell_type": "code",
   "execution_count": 130,
   "id": "f7cd224d",
   "metadata": {},
   "outputs": [
    {
     "name": "stdout",
     "output_type": "stream",
     "text": [
      "Length of Uncleaned Data: 1007\n"
     ]
    }
   ],
   "source": [
    "print(\"Length of Uncleaned Data:\", len(cars))"
   ]
  },
  {
   "cell_type": "markdown",
   "id": "1099853b",
   "metadata": {},
   "source": [
    "**Dealing with NaN values:** <br> \n",
    "- First, I am going to see how many rows contain NaN values:"
   ]
  },
  {
   "cell_type": "code",
   "execution_count": 131,
   "id": "085f3e9f",
   "metadata": {},
   "outputs": [
    {
     "name": "stdout",
     "output_type": "stream",
     "text": [
      "Length of Data without NaN values: 995\n"
     ]
    }
   ],
   "source": [
    "checking_NaN = cars.dropna()\n",
    "print(\"Length of Data without NaN values:\", len(checking_NaN))"
   ]
  },
  {
   "cell_type": "markdown",
   "id": "03e95a04",
   "metadata": {},
   "source": [
    "- Since only 12 rows are with missing values, I am going to just drop these instead of fill in the values:"
   ]
  },
  {
   "cell_type": "code",
   "execution_count": 132,
   "id": "4ee87d9b",
   "metadata": {},
   "outputs": [],
   "source": [
    "cars = cars.dropna()"
   ]
  },
  {
   "cell_type": "markdown",
   "id": "d1320f63",
   "metadata": {},
   "source": [
    "### **Summary Statistics:** \n",
    "To start I have just used a summary statistics table with the IQR, max, min, average, etc. Right now this is not too useful, but does allow us to gain a better picture about the data. \n",
    "\n",
    "NB: If I .describe() the data straight away, I only get 'Year' because the rest have been inputted as strings, so I am going to float the others first. "
   ]
  },
  {
   "cell_type": "code",
   "execution_count": 133,
   "id": "6b9b4c3e",
   "metadata": {},
   "outputs": [
    {
     "data": {
      "text/html": [
       "<div>\n",
       "<style scoped>\n",
       "    .dataframe tbody tr th:only-of-type {\n",
       "        vertical-align: middle;\n",
       "    }\n",
       "\n",
       "    .dataframe tbody tr th {\n",
       "        vertical-align: top;\n",
       "    }\n",
       "\n",
       "    .dataframe thead th {\n",
       "        text-align: right;\n",
       "    }\n",
       "</style>\n",
       "<table border=\"1\" class=\"dataframe\">\n",
       "  <thead>\n",
       "    <tr style=\"text-align: right;\">\n",
       "      <th></th>\n",
       "      <th>Car Make</th>\n",
       "      <th>Car Model</th>\n",
       "      <th>Year</th>\n",
       "      <th>Engine Size (L)</th>\n",
       "      <th>Horsepower</th>\n",
       "      <th>Torque (lb-ft)</th>\n",
       "      <th>0-60 MPH Time (seconds)</th>\n",
       "      <th>Price (in USD)</th>\n",
       "    </tr>\n",
       "  </thead>\n",
       "  <tbody>\n",
       "    <tr>\n",
       "      <th>0</th>\n",
       "      <td>Porsche</td>\n",
       "      <td>911</td>\n",
       "      <td>2022</td>\n",
       "      <td>3.00</td>\n",
       "      <td>379.00</td>\n",
       "      <td>331.00</td>\n",
       "      <td>4.00</td>\n",
       "      <td>101200</td>\n",
       "    </tr>\n",
       "    <tr>\n",
       "      <th>1</th>\n",
       "      <td>Lamborghini</td>\n",
       "      <td>Huracan</td>\n",
       "      <td>2021</td>\n",
       "      <td>5.20</td>\n",
       "      <td>630.00</td>\n",
       "      <td>443.00</td>\n",
       "      <td>2.80</td>\n",
       "      <td>274390</td>\n",
       "    </tr>\n",
       "  </tbody>\n",
       "</table>\n",
       "</div>"
      ],
      "text/plain": [
       "      Car Make Car Model  Year Engine Size (L)  Horsepower  Torque (lb-ft)  \\\n",
       "0      Porsche       911  2022            3.00      379.00          331.00   \n",
       "1  Lamborghini   Huracan  2021            5.20      630.00          443.00   \n",
       "\n",
       "   0-60 MPH Time (seconds)  Price (in USD)  \n",
       "0                     4.00          101200  \n",
       "1                     2.80          274390  "
      ]
     },
     "execution_count": 133,
     "metadata": {},
     "output_type": "execute_result"
    }
   ],
   "source": [
    "cars['Horsepower'] = pd.to_numeric(cars['Horsepower'].replace(',', ''), errors='coerce')\n",
    "cars['Torque (lb-ft)'] = pd.to_numeric(cars['Torque (lb-ft)'].replace('-', ''), errors='coerce')\n",
    "cars['0-60 MPH Time (seconds)'] = pd.to_numeric(cars['0-60 MPH Time (seconds)'].replace('-', ''), errors='coerce')\n",
    "cars['Price (in USD)'] = pd.to_numeric(cars['Price (in USD)'].str.replace(',', ''), errors='coerce')\n",
    "cars['Engine Size (L)'] = pd.to_numeric(cars['Engine Size (L)'], errors='coerce')\n",
    "cars.loc[cars['Engine Size (L)'].isnull(), 'Engine Size (L)'] = 'Electric Motor'\n",
    "\n",
    "cars[:2]"
   ]
  },
  {
   "cell_type": "code",
   "execution_count": 134,
   "id": "2cc7398a",
   "metadata": {},
   "outputs": [
    {
     "data": {
      "text/html": [
       "<div>\n",
       "<style scoped>\n",
       "    .dataframe tbody tr th:only-of-type {\n",
       "        vertical-align: middle;\n",
       "    }\n",
       "\n",
       "    .dataframe tbody tr th {\n",
       "        vertical-align: top;\n",
       "    }\n",
       "\n",
       "    .dataframe thead th {\n",
       "        text-align: right;\n",
       "    }\n",
       "</style>\n",
       "<table border=\"1\" class=\"dataframe\">\n",
       "  <thead>\n",
       "    <tr style=\"text-align: right;\">\n",
       "      <th></th>\n",
       "      <th>count</th>\n",
       "      <th>mean</th>\n",
       "      <th>std</th>\n",
       "      <th>min</th>\n",
       "      <th>25%</th>\n",
       "      <th>50%</th>\n",
       "      <th>75%</th>\n",
       "      <th>max</th>\n",
       "    </tr>\n",
       "  </thead>\n",
       "  <tbody>\n",
       "    <tr>\n",
       "      <th>Year</th>\n",
       "      <td>995.00</td>\n",
       "      <td>2021.20</td>\n",
       "      <td>2.03</td>\n",
       "      <td>1965.00</td>\n",
       "      <td>2021.00</td>\n",
       "      <td>2021.00</td>\n",
       "      <td>2022.00</td>\n",
       "      <td>2023.00</td>\n",
       "    </tr>\n",
       "    <tr>\n",
       "      <th>Horsepower</th>\n",
       "      <td>988.00</td>\n",
       "      <td>621.01</td>\n",
       "      <td>289.04</td>\n",
       "      <td>181.00</td>\n",
       "      <td>454.00</td>\n",
       "      <td>591.00</td>\n",
       "      <td>671.00</td>\n",
       "      <td>2000.00</td>\n",
       "    </tr>\n",
       "    <tr>\n",
       "      <th>Torque (lb-ft)</th>\n",
       "      <td>990.00</td>\n",
       "      <td>537.32</td>\n",
       "      <td>232.15</td>\n",
       "      <td>151.00</td>\n",
       "      <td>406.00</td>\n",
       "      <td>507.00</td>\n",
       "      <td>597.50</td>\n",
       "      <td>1732.00</td>\n",
       "    </tr>\n",
       "    <tr>\n",
       "      <th>0-60 MPH Time (seconds)</th>\n",
       "      <td>994.00</td>\n",
       "      <td>3.53</td>\n",
       "      <td>0.77</td>\n",
       "      <td>1.80</td>\n",
       "      <td>2.90</td>\n",
       "      <td>3.50</td>\n",
       "      <td>4.00</td>\n",
       "      <td>6.50</td>\n",
       "    </tr>\n",
       "    <tr>\n",
       "      <th>Price (in USD)</th>\n",
       "      <td>995.00</td>\n",
       "      <td>375420.02</td>\n",
       "      <td>730441.94</td>\n",
       "      <td>25000.00</td>\n",
       "      <td>71800.00</td>\n",
       "      <td>135000.00</td>\n",
       "      <td>249000.00</td>\n",
       "      <td>5200000.00</td>\n",
       "    </tr>\n",
       "  </tbody>\n",
       "</table>\n",
       "</div>"
      ],
      "text/plain": [
       "                         count      mean       std      min      25%  \\\n",
       "Year                    995.00   2021.20      2.03  1965.00  2021.00   \n",
       "Horsepower              988.00    621.01    289.04   181.00   454.00   \n",
       "Torque (lb-ft)          990.00    537.32    232.15   151.00   406.00   \n",
       "0-60 MPH Time (seconds) 994.00      3.53      0.77     1.80     2.90   \n",
       "Price (in USD)          995.00 375420.02 730441.94 25000.00 71800.00   \n",
       "\n",
       "                              50%       75%        max  \n",
       "Year                      2021.00   2022.00    2023.00  \n",
       "Horsepower                 591.00    671.00    2000.00  \n",
       "Torque (lb-ft)             507.00    597.50    1732.00  \n",
       "0-60 MPH Time (seconds)      3.50      4.00       6.50  \n",
       "Price (in USD)          135000.00 249000.00 5200000.00  "
      ]
     },
     "execution_count": 134,
     "metadata": {},
     "output_type": "execute_result"
    }
   ],
   "source": [
    "#I have used the .T to switch the column and row titles so it helps with our readability:\n",
    "cars.describe().T"
   ]
  },
  {
   "cell_type": "markdown",
   "id": "435281c6",
   "metadata": {},
   "source": [
    "**Takeaways From the Table:** \n",
    "- The mean year for cars is 2021, but the minimum is 1965. With the 75% percentile as 2022, the mean is heavily skewed to the present day. \n",
    "- The range for 0-60MPH is large, (6.5-1.8)\n",
    "- The price range is bigger, with the minimum car being worth 25,000USD, versus 5,200,000USD!"
   ]
  },
  {
   "cell_type": "markdown",
   "id": "e6d42d5d",
   "metadata": {},
   "source": [
    "**Starting with basic groupby functions and plotting counts:**\n",
    "- I have chosen to use the groupby function and basic boxplots to take a better look at the columns with strings."
   ]
  },
  {
   "cell_type": "code",
   "execution_count": 105,
   "id": "075f2b67",
   "metadata": {},
   "outputs": [],
   "source": [
    "grouped_by_make = cars.groupby(['Car Make'])[['Horsepower', 'Torque (lb-ft)', '0-60 MPH Time (seconds)', 'Price (in USD)']].agg(['mean'])\n",
    "pd.options.display.float_format = '{:.2f}'.format\n",
    "\n",
    "grouped_by_make = grouped_by_make.sort_values(by=('Price (in USD)', 'mean'), ascending=False)"
   ]
  },
  {
   "cell_type": "markdown",
   "id": "3cdd0792",
   "metadata": {},
   "source": [
    "The four most expensive car makes (by mean price) are listed below:"
   ]
  },
  {
   "cell_type": "code",
   "execution_count": 106,
   "id": "c46092ac",
   "metadata": {},
   "outputs": [
    {
     "data": {
      "text/html": [
       "<div>\n",
       "<style scoped>\n",
       "    .dataframe tbody tr th:only-of-type {\n",
       "        vertical-align: middle;\n",
       "    }\n",
       "\n",
       "    .dataframe tbody tr th {\n",
       "        vertical-align: top;\n",
       "    }\n",
       "\n",
       "    .dataframe thead tr th {\n",
       "        text-align: left;\n",
       "    }\n",
       "\n",
       "    .dataframe thead tr:last-of-type th {\n",
       "        text-align: right;\n",
       "    }\n",
       "</style>\n",
       "<table border=\"1\" class=\"dataframe\">\n",
       "  <thead>\n",
       "    <tr>\n",
       "      <th></th>\n",
       "      <th>Horsepower</th>\n",
       "      <th>Torque (lb-ft)</th>\n",
       "      <th>0-60 MPH Time (seconds)</th>\n",
       "      <th>Price (in USD)</th>\n",
       "    </tr>\n",
       "    <tr>\n",
       "      <th></th>\n",
       "      <th>mean</th>\n",
       "      <th>mean</th>\n",
       "      <th>mean</th>\n",
       "      <th>mean</th>\n",
       "    </tr>\n",
       "    <tr>\n",
       "      <th>Car Make</th>\n",
       "      <th></th>\n",
       "      <th></th>\n",
       "      <th></th>\n",
       "      <th></th>\n",
       "    </tr>\n",
       "  </thead>\n",
       "  <tbody>\n",
       "    <tr>\n",
       "      <th>Bugatti</th>\n",
       "      <td>1502.32</td>\n",
       "      <td>1180.00</td>\n",
       "      <td>2.39</td>\n",
       "      <td>3251956.52</td>\n",
       "    </tr>\n",
       "    <tr>\n",
       "      <th>Koenigsegg</th>\n",
       "      <td>1364.13</td>\n",
       "      <td>1069.60</td>\n",
       "      <td>2.47</td>\n",
       "      <td>2906666.67</td>\n",
       "    </tr>\n",
       "    <tr>\n",
       "      <th>Pagani</th>\n",
       "      <td>758.33</td>\n",
       "      <td>744.00</td>\n",
       "      <td>2.80</td>\n",
       "      <td>2791666.67</td>\n",
       "    </tr>\n",
       "    <tr>\n",
       "      <th>Pininfarina</th>\n",
       "      <td>1873.00</td>\n",
       "      <td>1696.00</td>\n",
       "      <td>1.90</td>\n",
       "      <td>2500000.00</td>\n",
       "    </tr>\n",
       "  </tbody>\n",
       "</table>\n",
       "</div>"
      ],
      "text/plain": [
       "            Horsepower Torque (lb-ft) 0-60 MPH Time (seconds) Price (in USD)\n",
       "                  mean           mean                    mean           mean\n",
       "Car Make                                                                    \n",
       "Bugatti        1502.32        1180.00                    2.39     3251956.52\n",
       "Koenigsegg     1364.13        1069.60                    2.47     2906666.67\n",
       "Pagani          758.33         744.00                    2.80     2791666.67\n",
       "Pininfarina    1873.00        1696.00                    1.90     2500000.00"
      ]
     },
     "execution_count": 106,
     "metadata": {},
     "output_type": "execute_result"
    }
   ],
   "source": [
    "grouped_by_make[:4]"
   ]
  },
  {
   "cell_type": "markdown",
   "id": "8f9c97e1",
   "metadata": {},
   "source": [
    "The four cheapest car makes (by mean price) are listed below:"
   ]
  },
  {
   "cell_type": "code",
   "execution_count": 107,
   "id": "4dd7171d",
   "metadata": {},
   "outputs": [
    {
     "data": {
      "text/html": [
       "<div>\n",
       "<style scoped>\n",
       "    .dataframe tbody tr th:only-of-type {\n",
       "        vertical-align: middle;\n",
       "    }\n",
       "\n",
       "    .dataframe tbody tr th {\n",
       "        vertical-align: top;\n",
       "    }\n",
       "\n",
       "    .dataframe thead tr th {\n",
       "        text-align: left;\n",
       "    }\n",
       "\n",
       "    .dataframe thead tr:last-of-type th {\n",
       "        text-align: right;\n",
       "    }\n",
       "</style>\n",
       "<table border=\"1\" class=\"dataframe\">\n",
       "  <thead>\n",
       "    <tr>\n",
       "      <th></th>\n",
       "      <th>Horsepower</th>\n",
       "      <th>Torque (lb-ft)</th>\n",
       "      <th>0-60 MPH Time (seconds)</th>\n",
       "      <th>Price (in USD)</th>\n",
       "    </tr>\n",
       "    <tr>\n",
       "      <th></th>\n",
       "      <th>mean</th>\n",
       "      <th>mean</th>\n",
       "      <th>mean</th>\n",
       "      <th>mean</th>\n",
       "    </tr>\n",
       "    <tr>\n",
       "      <th>Car Make</th>\n",
       "      <th></th>\n",
       "      <th></th>\n",
       "      <th></th>\n",
       "      <th></th>\n",
       "    </tr>\n",
       "  </thead>\n",
       "  <tbody>\n",
       "    <tr>\n",
       "      <th>Nissan</th>\n",
       "      <td>360.49</td>\n",
       "      <td>287.62</td>\n",
       "      <td>4.75</td>\n",
       "      <td>50752.16</td>\n",
       "    </tr>\n",
       "    <tr>\n",
       "      <th>Toyota</th>\n",
       "      <td>382.00</td>\n",
       "      <td>368.00</td>\n",
       "      <td>3.90</td>\n",
       "      <td>43072.00</td>\n",
       "    </tr>\n",
       "    <tr>\n",
       "      <th>Subaru</th>\n",
       "      <td>310.00</td>\n",
       "      <td>290.00</td>\n",
       "      <td>5.00</td>\n",
       "      <td>38170.00</td>\n",
       "    </tr>\n",
       "    <tr>\n",
       "      <th>Mazda</th>\n",
       "      <td>181.00</td>\n",
       "      <td>151.00</td>\n",
       "      <td>6.50</td>\n",
       "      <td>26830.00</td>\n",
       "    </tr>\n",
       "  </tbody>\n",
       "</table>\n",
       "</div>"
      ],
      "text/plain": [
       "         Horsepower Torque (lb-ft) 0-60 MPH Time (seconds) Price (in USD)\n",
       "               mean           mean                    mean           mean\n",
       "Car Make                                                                 \n",
       "Nissan       360.49         287.62                    4.75       50752.16\n",
       "Toyota       382.00         368.00                    3.90       43072.00\n",
       "Subaru       310.00         290.00                    5.00       38170.00\n",
       "Mazda        181.00         151.00                    6.50       26830.00"
      ]
     },
     "execution_count": 107,
     "metadata": {},
     "output_type": "execute_result"
    }
   ],
   "source": [
    "grouped_by_make[-4:]"
   ]
  },
  {
   "cell_type": "markdown",
   "id": "2a42bb04",
   "metadata": {},
   "source": [
    "**Comparing the mean figures of the top four and bottom four cars by price:**\n",
    "- Horsepower is considerably higher for the more expensive cars, though Pagani lags behind\n",
    "- While Toyota is the fastest, cheapest car, it is still over 1 second slower than the slowest, expensive car\n",
    "- The mean price of the most expensive and cheapest cars range by almost $3,000,000."
   ]
  },
  {
   "cell_type": "markdown",
   "id": "72533acc",
   "metadata": {},
   "source": [
    "**Looking at the most frequent car makes:**"
   ]
  },
  {
   "cell_type": "code",
   "execution_count": 108,
   "id": "0a25ef08",
   "metadata": {},
   "outputs": [
    {
     "data": {
      "text/plain": [
       "Porsche          86\n",
       "McLaren          75\n",
       "Audi             71\n",
       "Lamborghini      66\n",
       "BMW              63\n",
       "Chevrolet        60\n",
       "Ferrari          55\n",
       "Mercedes-Benz    54\n",
       "Aston Martin     50\n",
       "Ford             48\n",
       "Name: Car Make, dtype: int64"
      ]
     },
     "execution_count": 108,
     "metadata": {},
     "output_type": "execute_result"
    }
   ],
   "source": [
    "cars['Car Make'].value_counts()[:10]"
   ]
  },
  {
   "cell_type": "code",
   "execution_count": 109,
   "id": "0cb2ab77",
   "metadata": {},
   "outputs": [
    {
     "data": {
      "text/plain": [
       "Subaru         3\n",
       "Pininfarina    2\n",
       "TVR            2\n",
       "Kia            1\n",
       "Alpine         1\n",
       "Ariel          1\n",
       "Shelby         1\n",
       "Mazda          1\n",
       "Polestar       1\n",
       "Ultima         1\n",
       "Name: Car Make, dtype: int64"
      ]
     },
     "execution_count": 109,
     "metadata": {},
     "output_type": "execute_result"
    }
   ],
   "source": [
    "cars['Car Make'].value_counts()[-10:]"
   ]
  },
  {
   "cell_type": "markdown",
   "id": "0974f757",
   "metadata": {},
   "source": [
    "- Interestingly, Porsche is the most represented car make in this dataset. Mclaren is next. This is interesting to me because they are both considered luxury cars. I would have expected our cheapted four cars to be at the top of this list.\n",
    "- Instead, Subaru, one of the four cheapest cars is one of the least purchased, as is Mazda."
   ]
  },
  {
   "cell_type": "markdown",
   "id": "cf5d9dc2",
   "metadata": {},
   "source": [
    "**Sorting by Horsepower instead of Speed:**"
   ]
  },
  {
   "cell_type": "code",
   "execution_count": 110,
   "id": "70f45df5",
   "metadata": {},
   "outputs": [],
   "source": [
    "grouped_by_speed = cars.groupby(['Car Make'])[['Horsepower', 'Torque (lb-ft)', '0-60 MPH Time (seconds)', 'Price (in USD)']].agg(['mean'])\n",
    "pd.options.display.float_format = '{:.2f}'.format\n",
    "\n",
    "grouped_by_speed = grouped_by_speed.sort_values(by=('Horsepower', 'mean'), ascending=False)"
   ]
  },
  {
   "cell_type": "code",
   "execution_count": 111,
   "id": "d7d9ea60",
   "metadata": {},
   "outputs": [
    {
     "data": {
      "text/html": [
       "<div>\n",
       "<style scoped>\n",
       "    .dataframe tbody tr th:only-of-type {\n",
       "        vertical-align: middle;\n",
       "    }\n",
       "\n",
       "    .dataframe tbody tr th {\n",
       "        vertical-align: top;\n",
       "    }\n",
       "\n",
       "    .dataframe thead tr th {\n",
       "        text-align: left;\n",
       "    }\n",
       "\n",
       "    .dataframe thead tr:last-of-type th {\n",
       "        text-align: right;\n",
       "    }\n",
       "</style>\n",
       "<table border=\"1\" class=\"dataframe\">\n",
       "  <thead>\n",
       "    <tr>\n",
       "      <th></th>\n",
       "      <th>Horsepower</th>\n",
       "      <th>Torque (lb-ft)</th>\n",
       "      <th>0-60 MPH Time (seconds)</th>\n",
       "      <th>Price (in USD)</th>\n",
       "    </tr>\n",
       "    <tr>\n",
       "      <th></th>\n",
       "      <th>mean</th>\n",
       "      <th>mean</th>\n",
       "      <th>mean</th>\n",
       "      <th>mean</th>\n",
       "    </tr>\n",
       "    <tr>\n",
       "      <th>Car Make</th>\n",
       "      <th></th>\n",
       "      <th></th>\n",
       "      <th></th>\n",
       "      <th></th>\n",
       "    </tr>\n",
       "  </thead>\n",
       "  <tbody>\n",
       "    <tr>\n",
       "      <th>Rimac</th>\n",
       "      <td>1911.64</td>\n",
       "      <td>1702.55</td>\n",
       "      <td>1.87</td>\n",
       "      <td>2400000.00</td>\n",
       "    </tr>\n",
       "    <tr>\n",
       "      <th>Pininfarina</th>\n",
       "      <td>1873.00</td>\n",
       "      <td>1696.00</td>\n",
       "      <td>1.90</td>\n",
       "      <td>2500000.00</td>\n",
       "    </tr>\n",
       "    <tr>\n",
       "      <th>Bugatti</th>\n",
       "      <td>1502.32</td>\n",
       "      <td>1180.00</td>\n",
       "      <td>2.39</td>\n",
       "      <td>3251956.52</td>\n",
       "    </tr>\n",
       "    <tr>\n",
       "      <th>Koenigsegg</th>\n",
       "      <td>1364.13</td>\n",
       "      <td>1069.60</td>\n",
       "      <td>2.47</td>\n",
       "      <td>2906666.67</td>\n",
       "    </tr>\n",
       "  </tbody>\n",
       "</table>\n",
       "</div>"
      ],
      "text/plain": [
       "            Horsepower Torque (lb-ft) 0-60 MPH Time (seconds) Price (in USD)\n",
       "                  mean           mean                    mean           mean\n",
       "Car Make                                                                    \n",
       "Rimac          1911.64        1702.55                    1.87     2400000.00\n",
       "Pininfarina    1873.00        1696.00                    1.90     2500000.00\n",
       "Bugatti        1502.32        1180.00                    2.39     3251956.52\n",
       "Koenigsegg     1364.13        1069.60                    2.47     2906666.67"
      ]
     },
     "execution_count": 111,
     "metadata": {},
     "output_type": "execute_result"
    }
   ],
   "source": [
    "grouped_by_speed[:4]"
   ]
  },
  {
   "cell_type": "code",
   "execution_count": 112,
   "id": "aea358b8",
   "metadata": {},
   "outputs": [
    {
     "data": {
      "text/html": [
       "<div>\n",
       "<style scoped>\n",
       "    .dataframe tbody tr th:only-of-type {\n",
       "        vertical-align: middle;\n",
       "    }\n",
       "\n",
       "    .dataframe tbody tr th {\n",
       "        vertical-align: top;\n",
       "    }\n",
       "\n",
       "    .dataframe thead tr th {\n",
       "        text-align: left;\n",
       "    }\n",
       "\n",
       "    .dataframe thead tr:last-of-type th {\n",
       "        text-align: right;\n",
       "    }\n",
       "</style>\n",
       "<table border=\"1\" class=\"dataframe\">\n",
       "  <thead>\n",
       "    <tr>\n",
       "      <th></th>\n",
       "      <th>Horsepower</th>\n",
       "      <th>Torque (lb-ft)</th>\n",
       "      <th>0-60 MPH Time (seconds)</th>\n",
       "      <th>Price (in USD)</th>\n",
       "    </tr>\n",
       "    <tr>\n",
       "      <th></th>\n",
       "      <th>mean</th>\n",
       "      <th>mean</th>\n",
       "      <th>mean</th>\n",
       "      <th>mean</th>\n",
       "    </tr>\n",
       "    <tr>\n",
       "      <th>Car Make</th>\n",
       "      <th></th>\n",
       "      <th></th>\n",
       "      <th></th>\n",
       "      <th></th>\n",
       "    </tr>\n",
       "  </thead>\n",
       "  <tbody>\n",
       "    <tr>\n",
       "      <th>Ariel</th>\n",
       "      <td>320.00</td>\n",
       "      <td>243.00</td>\n",
       "      <td>2.80</td>\n",
       "      <td>75000.00</td>\n",
       "    </tr>\n",
       "    <tr>\n",
       "      <th>Subaru</th>\n",
       "      <td>310.00</td>\n",
       "      <td>290.00</td>\n",
       "      <td>5.00</td>\n",
       "      <td>38170.00</td>\n",
       "    </tr>\n",
       "    <tr>\n",
       "      <th>Alpine</th>\n",
       "      <td>288.00</td>\n",
       "      <td>236.00</td>\n",
       "      <td>4.40</td>\n",
       "      <td>71500.00</td>\n",
       "    </tr>\n",
       "    <tr>\n",
       "      <th>Mazda</th>\n",
       "      <td>181.00</td>\n",
       "      <td>151.00</td>\n",
       "      <td>6.50</td>\n",
       "      <td>26830.00</td>\n",
       "    </tr>\n",
       "  </tbody>\n",
       "</table>\n",
       "</div>"
      ],
      "text/plain": [
       "         Horsepower Torque (lb-ft) 0-60 MPH Time (seconds) Price (in USD)\n",
       "               mean           mean                    mean           mean\n",
       "Car Make                                                                 \n",
       "Ariel        320.00         243.00                    2.80       75000.00\n",
       "Subaru       310.00         290.00                    5.00       38170.00\n",
       "Alpine       288.00         236.00                    4.40       71500.00\n",
       "Mazda        181.00         151.00                    6.50       26830.00"
      ]
     },
     "execution_count": 112,
     "metadata": {},
     "output_type": "execute_result"
    }
   ],
   "source": [
    "grouped_by_speed[-4:]"
   ]
  },
  {
   "cell_type": "markdown",
   "id": "9175eb4b",
   "metadata": {},
   "source": [
    "- Pininfarina, Bugatti, Koenigsegg are three of the fastest cars, and are in the top four expensive cars.\n",
    "- Conversely, Mazda and Subaru are two of the cheapest cars, and slowest."
   ]
  },
  {
   "cell_type": "code",
   "execution_count": 116,
   "id": "edd50a4c",
   "metadata": {},
   "outputs": [
    {
     "data": {
      "text/html": [
       "<div>\n",
       "<style scoped>\n",
       "    .dataframe tbody tr th:only-of-type {\n",
       "        vertical-align: middle;\n",
       "    }\n",
       "\n",
       "    .dataframe tbody tr th {\n",
       "        vertical-align: top;\n",
       "    }\n",
       "\n",
       "    .dataframe thead tr th {\n",
       "        text-align: left;\n",
       "    }\n",
       "\n",
       "    .dataframe thead tr:last-of-type th {\n",
       "        text-align: right;\n",
       "    }\n",
       "</style>\n",
       "<table border=\"1\" class=\"dataframe\">\n",
       "  <thead>\n",
       "    <tr>\n",
       "      <th></th>\n",
       "      <th></th>\n",
       "      <th></th>\n",
       "      <th>Horsepower</th>\n",
       "      <th>Torque (lb-ft)</th>\n",
       "      <th>0-60 MPH Time (seconds)</th>\n",
       "      <th>Price (in USD)</th>\n",
       "    </tr>\n",
       "    <tr>\n",
       "      <th></th>\n",
       "      <th></th>\n",
       "      <th></th>\n",
       "      <th>mean</th>\n",
       "      <th>mean</th>\n",
       "      <th>mean</th>\n",
       "      <th>mean</th>\n",
       "    </tr>\n",
       "    <tr>\n",
       "      <th>Car Make</th>\n",
       "      <th>Car Model</th>\n",
       "      <th>Year</th>\n",
       "      <th></th>\n",
       "      <th></th>\n",
       "      <th></th>\n",
       "      <th></th>\n",
       "    </tr>\n",
       "  </thead>\n",
       "  <tbody>\n",
       "    <tr>\n",
       "      <th rowspan=\"4\" valign=\"top\">Aston Martin</th>\n",
       "      <th rowspan=\"2\" valign=\"top\">DBS Superleggera</th>\n",
       "      <th>2021</th>\n",
       "      <td>715.00</td>\n",
       "      <td>663.64</td>\n",
       "      <td>3.27</td>\n",
       "      <td>306494.09</td>\n",
       "    </tr>\n",
       "    <tr>\n",
       "      <th>2022</th>\n",
       "      <td>715.00</td>\n",
       "      <td>663.50</td>\n",
       "      <td>3.30</td>\n",
       "      <td>318403.33</td>\n",
       "    </tr>\n",
       "    <tr>\n",
       "      <th rowspan=\"2\" valign=\"top\">Vantage</th>\n",
       "      <th>2021</th>\n",
       "      <td>503.00</td>\n",
       "      <td>505.00</td>\n",
       "      <td>3.54</td>\n",
       "      <td>145772.38</td>\n",
       "    </tr>\n",
       "    <tr>\n",
       "      <th>2022</th>\n",
       "      <td>503.00</td>\n",
       "      <td>505.00</td>\n",
       "      <td>3.52</td>\n",
       "      <td>146527.00</td>\n",
       "    </tr>\n",
       "    <tr>\n",
       "      <th rowspan=\"5\" valign=\"top\">Audi</th>\n",
       "      <th>R8</th>\n",
       "      <th>2022</th>\n",
       "      <td>562.00</td>\n",
       "      <td>406.00</td>\n",
       "      <td>3.20</td>\n",
       "      <td>142700.00</td>\n",
       "    </tr>\n",
       "    <tr>\n",
       "      <th>R8 Spyder</th>\n",
       "      <th>2022</th>\n",
       "      <td>562.00</td>\n",
       "      <td>406.00</td>\n",
       "      <td>3.50</td>\n",
       "      <td>183300.00</td>\n",
       "    </tr>\n",
       "    <tr>\n",
       "      <th>RS 3</th>\n",
       "      <th>2022</th>\n",
       "      <td>401.00</td>\n",
       "      <td>361.50</td>\n",
       "      <td>3.55</td>\n",
       "      <td>56100.00</td>\n",
       "    </tr>\n",
       "    <tr>\n",
       "      <th rowspan=\"2\" valign=\"top\">RS 5</th>\n",
       "      <th>2021</th>\n",
       "      <td>444.00</td>\n",
       "      <td>443.00</td>\n",
       "      <td>3.50</td>\n",
       "      <td>75100.00</td>\n",
       "    </tr>\n",
       "    <tr>\n",
       "      <th>2022</th>\n",
       "      <td>444.00</td>\n",
       "      <td>442.75</td>\n",
       "      <td>3.55</td>\n",
       "      <td>75575.00</td>\n",
       "    </tr>\n",
       "  </tbody>\n",
       "</table>\n",
       "</div>"
      ],
      "text/plain": [
       "                                   Horsepower Torque (lb-ft)  \\\n",
       "                                         mean           mean   \n",
       "Car Make     Car Model        Year                             \n",
       "Aston Martin DBS Superleggera 2021     715.00         663.64   \n",
       "                              2022     715.00         663.50   \n",
       "             Vantage          2021     503.00         505.00   \n",
       "                              2022     503.00         505.00   \n",
       "Audi         R8               2022     562.00         406.00   \n",
       "             R8 Spyder        2022     562.00         406.00   \n",
       "             RS 3             2022     401.00         361.50   \n",
       "             RS 5             2021     444.00         443.00   \n",
       "                              2022     444.00         442.75   \n",
       "\n",
       "                                   0-60 MPH Time (seconds) Price (in USD)  \n",
       "                                                      mean           mean  \n",
       "Car Make     Car Model        Year                                         \n",
       "Aston Martin DBS Superleggera 2021                    3.27      306494.09  \n",
       "                              2022                    3.30      318403.33  \n",
       "             Vantage          2021                    3.54      145772.38  \n",
       "                              2022                    3.52      146527.00  \n",
       "Audi         R8               2022                    3.20      142700.00  \n",
       "             R8 Spyder        2022                    3.50      183300.00  \n",
       "             RS 3             2022                    3.55       56100.00  \n",
       "             RS 5             2021                    3.50       75100.00  \n",
       "                              2022                    3.55       75575.00  "
      ]
     },
     "execution_count": 116,
     "metadata": {},
     "output_type": "execute_result"
    }
   ],
   "source": [
    "grouped_by_make_year = cars.groupby(['Car Make', 'Car Model', 'Year'])[['Horsepower', 'Torque (lb-ft)', '0-60 MPH Time (seconds)', 'Price (in USD)']].agg(['mean'])\n",
    "grouped_by_make_year[10:19]"
   ]
  },
  {
   "cell_type": "code",
   "execution_count": 124,
   "id": "958e84b5",
   "metadata": {},
   "outputs": [
    {
     "data": {
      "text/html": [
       "<div>\n",
       "<style scoped>\n",
       "    .dataframe tbody tr th:only-of-type {\n",
       "        vertical-align: middle;\n",
       "    }\n",
       "\n",
       "    .dataframe tbody tr th {\n",
       "        vertical-align: top;\n",
       "    }\n",
       "\n",
       "    .dataframe thead tr th {\n",
       "        text-align: left;\n",
       "    }\n",
       "\n",
       "    .dataframe thead tr:last-of-type th {\n",
       "        text-align: right;\n",
       "    }\n",
       "</style>\n",
       "<table border=\"1\" class=\"dataframe\">\n",
       "  <thead>\n",
       "    <tr>\n",
       "      <th></th>\n",
       "      <th></th>\n",
       "      <th></th>\n",
       "      <th>Horsepower</th>\n",
       "      <th>Torque (lb-ft)</th>\n",
       "      <th>0-60 MPH Time (seconds)</th>\n",
       "      <th>Price (in USD)</th>\n",
       "    </tr>\n",
       "    <tr>\n",
       "      <th></th>\n",
       "      <th></th>\n",
       "      <th></th>\n",
       "      <th>mean</th>\n",
       "      <th>mean</th>\n",
       "      <th>mean</th>\n",
       "      <th>mean</th>\n",
       "    </tr>\n",
       "    <tr>\n",
       "      <th>Car Make</th>\n",
       "      <th>Car Model</th>\n",
       "      <th>Year</th>\n",
       "      <th></th>\n",
       "      <th></th>\n",
       "      <th></th>\n",
       "      <th></th>\n",
       "    </tr>\n",
       "  </thead>\n",
       "  <tbody>\n",
       "    <tr>\n",
       "      <th rowspan=\"2\" valign=\"top\">BMW</th>\n",
       "      <th rowspan=\"2\" valign=\"top\">M5</th>\n",
       "      <th>2021</th>\n",
       "      <td>600.00</td>\n",
       "      <td>553.00</td>\n",
       "      <td>3.20</td>\n",
       "      <td>103500.00</td>\n",
       "    </tr>\n",
       "    <tr>\n",
       "      <th>2022</th>\n",
       "      <td>600.00</td>\n",
       "      <td>553.00</td>\n",
       "      <td>3.20</td>\n",
       "      <td>103571.43</td>\n",
       "    </tr>\n",
       "  </tbody>\n",
       "</table>\n",
       "</div>"
      ],
      "text/plain": [
       "                        Horsepower Torque (lb-ft) 0-60 MPH Time (seconds)  \\\n",
       "                              mean           mean                    mean   \n",
       "Car Make Car Model Year                                                     \n",
       "BMW      M5        2021     600.00         553.00                    3.20   \n",
       "                   2022     600.00         553.00                    3.20   \n",
       "\n",
       "                        Price (in USD)  \n",
       "                                  mean  \n",
       "Car Make Car Model Year                 \n",
       "BMW      M5        2021      103500.00  \n",
       "                   2022      103571.43  "
      ]
     },
     "execution_count": 124,
     "metadata": {},
     "output_type": "execute_result"
    }
   ],
   "source": [
    "grouped_by_make_year[52:54]"
   ]
  },
  {
   "cell_type": "markdown",
   "id": "35760a96",
   "metadata": {},
   "source": [
    "**Comparing Cars over time:**\n",
    "- Above, I have grouped by car make and model. \n",
    "- The Aston Martin DBS Superleggera 2021 and 2022 versions are practically the same in terms of speed, horsepower, and torque. However, the price is slightly lower for the 2021 model.\n",
    "- The Audi RS5 has the same result as the Aston Martin, with the cars being the same, but cheaper for 2021.\n",
    "- The BMW M5 is **exactly** the same, but the 2021 version is slightly cheaper.\n",
    "\n",
    "These comparisons lead me to believe that the older the car, the cheaper it is, even if it has the same qualities as the newer-year cars."
   ]
  }
 ],
 "metadata": {
  "kernelspec": {
   "display_name": "Python 3 (ipykernel)",
   "language": "python",
   "name": "python3"
  },
  "language_info": {
   "codemirror_mode": {
    "name": "ipython",
    "version": 3
   },
   "file_extension": ".py",
   "mimetype": "text/x-python",
   "name": "python",
   "nbconvert_exporter": "python",
   "pygments_lexer": "ipython3",
   "version": "3.10.9"
  }
 },
 "nbformat": 4,
 "nbformat_minor": 5
}
