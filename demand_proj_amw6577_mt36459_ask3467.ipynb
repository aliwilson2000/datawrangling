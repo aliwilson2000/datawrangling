{
  "nbformat": 4,
  "nbformat_minor": 0,
  "metadata": {
    "colab": {
      "provenance": [],
      "include_colab_link": true
    },
    "kernelspec": {
      "name": "python3",
      "display_name": "Python 3"
    },
    "language_info": {
      "name": "python"
    }
  },
  "cells": [
    {
      "cell_type": "markdown",
      "metadata": {
        "id": "view-in-github",
        "colab_type": "text"
      },
      "source": [
        "<a href=\"https://colab.research.google.com/github/aliwilson2000/datawrangling_and_eda/blob/main/demand_proj_amw6577_mt36459_ask3467.ipynb\" target=\"_parent\"><img src=\"https://colab.research.google.com/assets/colab-badge.svg\" alt=\"Open In Colab\"/></a>"
      ]
    },
    {
      "cell_type": "markdown",
      "source": [
        "# Ride Share App Data"
      ],
      "metadata": {
        "id": "wb6tafhE02VK"
      }
    },
    {
      "cell_type": "markdown",
      "source": [
        "**Report Link:** https://docs.google.com/document/d/1SUdrjA0GNwgUJv3fIjmB8fySTp_QGCTUqOmrPGhXr8M/edit?usp=sharing"
      ],
      "metadata": {
        "id": "3E3qhx9SNI9E"
      }
    },
    {
      "cell_type": "markdown",
      "source": [
        "## Preparing the Data (i.e. splitting up columns):\n",
        "\n",
        "Link: https://colab.research.google.com/drive/1b0j_V-c3VV5j5jGnM7pJhvEdKSITQAQf?usp=sharing"
      ],
      "metadata": {
        "id": "XirNKeT41LJ3"
      }
    },
    {
      "cell_type": "markdown",
      "source": [
        "## Preliminary Exploratory Data Analysis, using Prepared Data:\n",
        "\n",
        "Link: https://colab.research.google.com/drive/1t7b0FeD7DuY0L1bi6ORnTFD62y3UAnsN?usp=sharing <br>\n",
        "Tableau Screenshots Link: https://docs.google.com/document/d/1FJb-uLHy1CUSS61a6oayKh2z4aiRtg7-PK2sigqLs-k/edit?usp=sharing\n"
      ],
      "metadata": {
        "id": "U1n82kJf5xAW"
      }
    },
    {
      "cell_type": "markdown",
      "source": [
        "## Dropping Locations (Refining to New York/USA):\n",
        "\n",
        "Link: https://colab.research.google.com/drive/1S0z2UGgupZmNPLOXImtsQblAlma2yaSS?usp=sharing"
      ],
      "metadata": {
        "id": "sztg7HipEkjY"
      }
    },
    {
      "cell_type": "markdown",
      "source": [
        "Link for distance measurement converter: https://colab.research.google.com/drive/1Sxf_91bwGeco_k0QrQs4yn1G0KOjfxEk?usp=sharing\n",
        "\n"
      ],
      "metadata": {
        "id": "P1jDshwWRCw5"
      }
    },
    {
      "cell_type": "code",
      "source": [],
      "metadata": {
        "id": "CQ5uScxN1IO7"
      },
      "execution_count": null,
      "outputs": []
    }
  ]
}